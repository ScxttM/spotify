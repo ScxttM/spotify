{
 "cells": [
  {
   "cell_type": "code",
   "execution_count": 38,
   "metadata": {},
   "outputs": [
    {
     "data": {
      "image/png": "[encoded data removed]",
      "text/plain": [
       "<Figure size 432x288 with 1 Axes>"
      ]
     },
     "metadata": {
      "needs_background": "light"
     },
     "output_type": "display_data"
    },
    {
     "name": "stdout",
     "output_type": "stream",
     "text": [
      "[[6.26514796e-03 6.22316514e+01]\n",
      " [6.88717096e-03 3.16867470e+00]\n",
      " [6.83492215e-03 7.83224299e+01]]\n"
     ]
    }
   ],
   "source": [
    "import pandas as pd\n",
    "import numpy as np\n",
    "import matplotlib.pyplot as plt\n",
    "from sklearn.cluster import KMeans\n",
    "\n",
    "data = pd.read_csv('data.csv')\n",
    "df =  pd.DataFrame(data)\n",
    "x = df.iloc[:, 10].values\n",
    "y = df.iloc[:, 2].values\n",
    "\n",
    "X = np.array(list(zip(x, y)))\n",
    "kmeans = KMeans(n_clusters=3)\n",
    "kmeans = kmeans.fit(X)\n",
    "labels = kmeans.predict(X)\n",
    "centroids = kmeans.cluster_centers_\n",
    "\n",
    "colors = [\"red\", \"green\", \"blue\"]\n",
    "\n",
    "for i in range(len(X)):\n",
    "    # print(\"Coordenada: \", X[i], \" Label: \", labels[i])\n",
    "    plt.scatter(X[i][0], X[i][1], c=colors[labels[i]])\n",
    "plt.scatter(centroids[:, 0], centroids[:, 1], marker=\"x\", s=150, linewidths=5, zorder=10, c=\"black\")\n",
    "plt.show()\n",
    "\n",
    "print(centroids)\n",
    "\n",
    "# centroides = pd.DataFrame(centroids)\n",
    "# centroides.to_csv('centroides.csv')"
   ]
  }
 ],
 "metadata": {
  "interpreter": {
   "hash": "9cbb33fb0dd98d60d7542c1e0a8ec9389a1bc71302aaca21e62e688716f63114"
  },
  "kernelspec": {
   "display_name": "Python 3.10.2 64-bit",
   "language": "python",
   "name": "python3"
  },
  "language_info": {
   "codemirror_mode": {
    "name": "ipython",
    "version": 3
   },
   "file_extension": ".py",
   "mimetype": "text/x-python",
   "name": "python",
   "nbconvert_exporter": "python",
   "pygments_lexer": "ipython3",
   "version": "3.10.2"
  },
  "orig_nbformat": 4
 },
 "nbformat": 4,
 "nbformat_minor": 2
}
