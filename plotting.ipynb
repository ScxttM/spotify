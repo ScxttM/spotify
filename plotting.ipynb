{
 "cells": [
  {
   "cell_type": "code",
   "execution_count": 4,
   "metadata": {},
   "outputs": [],
   "source": [
    "import numpy as np\n",
    "import pandas as pd\n",
    "import matplotlib.pyplot as pl\n",
    "import scipy.stats as stats"
   ]
  },
  {
   "cell_type": "code",
   "execution_count": 5,
   "metadata": {},
   "outputs": [],
   "source": [
    "df = pd.read_csv('data.csv')"
   ]
  },
  {
   "cell_type": "code",
   "execution_count": 36,
   "metadata": {},
   "outputs": [
    {
     "name": "stdout",
     "output_type": "stream",
     "text": [
      "{'dancepop': 652, 'pop': 887, 'detroithiphop': 6, 'hiphop': 95, 'rap': 145, 'artpop': 42, 'belgianpop': 2, 'g-house': 2, 'electropop': 109, 'post-teenpop': 212, 'bigroom': 19, 'edm': 173, 'popdance': 177, 'poprap': 259, 'barbadianpop': 18, 'urbancontemporary': 64, 'miamihiphop': 24, 'poprock': 98, 'atlhiphop': 24, 'contemporaryr&b': 7, 'r&b': 65, 'southcarolinahiphop': 6, 'southernhiphop': 41, 'canadianpop': 75, 'asianamericanhiphop': 2, 'neomellow': 37, 'indietronica': 14, 'modernrock': 63, 'stlouisrap': 2, 'bubblegumdance': 2, 'europop': 6, 'girlgroup': 11, 'ukpop': 103, 'hippop': 31, 'modernalternativerock': 16, 'rock': 29, 'boyband': 25, 'dancefloordnb': 4, 'drumandbass': 4, 'house': 43, 'ukdance': 47, 'latin': 34, 'latinpop': 8, 'mexicanpop': 3, 'trap': 62, 'francoton': 1, 'frenchpop': 1, 'reggaeton': 23, 'dirtysouthrap': 4, 'gangsterrap': 11, 'contemporarycountry': 13, 'country': 13, 'countrydawn': 6, 'countryroad': 10, 'moderncountryrock': 7, 'electropowerpop': 2, 'poppunk': 7, 'celticrock': 3, 'canadianhiphop': 21, 'torontorap': 22, 'hiphouse': 2, 'tropicalhouse': 117, 'reggaefusion': 3, 'progressiveelectrohouse': 19, 'gleeclub': 1, 'hollywood': 5, 'idol': 2, 'grime': 5, 'neosoul': 10, 'countrypop': 5, 'talentshow': 30, 'eastcoasthiphop': 2, 'indiecoustica': 1, 'singer-songwriter': 1, 'popr&b': 12, 'scandipop': 7, 'swedishelectropop': 12, 'swedishpop': 10, 'acousticpop': 4, 'lilith': 1, 'indierock': 2, 'irishrock': 1, 'northernirishindie': 1, 'electrohouse': 54, 'oldschoolatlantahiphop': 1, 'metropopolis': 30, 'neworleansrap': 4, 'romanianhouse': 2, 'romanianpop': 3, 'britishsoul': 15, 'popsoul': 17, 'viralpop': 33, 'queenshiphop': 5, 'candypop': 8, 'neonpoppunk': 2, 'permanentwave': 12, 'dancerock': 4, 'pianorock': 8, 'chicagorap': 11, 'indiepop': 5, 'laindie': 2, 'stompandholler': 6, 'conscioushiphop': 8, 'politicalhiphop': 1, 'indiepoptimism': 15, 'progressivehouse': 26, '': 8, 'instrumentalgrime': 1, 'londonrap': 2, 'ukhiphop': 8, 'swedishindiepop': 1, 'baroquepop': 4, 'ukalternativepop': 4, 'pittsburghrap': 5, 'gfunk': 3, 'westcoastrap': 5, 'frenchshoegaze': 1, 'frenchsynthpop': 1, 'neo-synthpop': 1, 'neo-singer-songwriter': 3, 'oklahomacountry': 2, 'alternativemetal': 1, 'canadianrock': 1, 'numetal': 1, 'post-grunge': 1, 'socialmediapop': 5, 'australianpop': 15, 'folk-pop': 15, 'swedishsynthpop': 6, 'dancehall': 2, 'alternativer&b': 5, 'lgbtq+hiphop': 10, 'australiantalentshow': 2, 'k-pop': 13, 'k-rap': 1, 'koreanoldschoolhiphop': 1, 'axe': 1, 'sertanejo': 1, 'sertanejopop': 1, 'sertanejouniversitario': 1, 'nzpop': 8, 'seattlehiphop': 3, 'electro': 1, 'filterhouse': 1, 'pixie': 3, 'popemo': 3, 'shimmerpop': 2, 'complextro': 5, 'germantechno': 5, 'garagerock': 2, 'sheffieldindie': 2, 'ukcontemporaryr&b': 4, 'chillpop': 2, 'irishpop': 2, 'adultstandards': 1, 'jazzpop': 1, 'lounge': 1, 'emo': 2, 'dutchtrance': 1, 'trance': 6, 'northcarolinahiphop': 3, 'ukfunky': 8, 'destroytechno': 3, 'modernfolkrock': 1, 'ukamericana': 1, 'dutchhouse': 1, 'dutchedm': 8, 'comic': 1, 'deepdiscohouse': 1, 'australianhiphop': 7, 'australiandance': 5, 'latinviralpop': 2, 'raplatina': 2, 'australianindie': 5, 'brostep': 13, 'slaphouse': 12, 'germanpop': 1, 'dutchhiphop': 1, 'deepgroovehouse': 2, 'showtunes': 3, 'electronictrap': 6, 'futurehouse': 1, 'undergroundhiphop': 3, 'aussietronica': 2, 'australianelectropop': 3, 'deephouse': 3, 'deeptropicalhouse': 1, 'moombahton': 3, 'canadiancontemporaryr&b': 22, 'virginislandsreggae': 1, 'newjerseyrap': 2, 'irishsinger-songwriter': 1, 'gauzepop': 4, 'melbournebounce': 1, 'melbournebounceinternational': 1, 'indiepoprap': 5, 'belgianedm': 2, 'kentuckyhiphop': 4, 'deepeurohouse': 1, 'germandance': 2, 'chicagobop': 1, 'pinoyhiphop': 1, 'phillyrap': 2, 'viraltrap': 1, 'altz': 16, 'norwegianpop': 3, 'afrofuturism': 2, 'oaklandhiphop': 4, 'canadiantrap': 2, 'melodicrap': 31, 'downtempo': 3, 'australiantrap': 1, 'virginiahiphop': 1, 'danishpop': 2, 'puertoricanpop': 4, 'darkpop': 1, 'danishelectronic': 1, 'popedm': 5, 'ohiohiphop': 3, 'dmvrap': 2, 'dfwrap': 13, 'etherpop': 5, 'reggaetoncolombiano': 6, 'traplatino': 22, 'comedyrap': 1, 'bedroompop': 3, 'bubblegrunge': 1, 'norwegianindie': 1, 'emorap': 4, 'afroswing': 5, 'nycpop': 1, 'atltrap': 1, 'basshall': 1, 'vaportrap': 2, 'shiverpop': 3, 'darkclubbing': 1, 'k-popboygroup': 6, 'dreamsmp': 1, 'k-popgirlgroup': 4, 'pluggnb': 1, 'alternativepoprock': 1, 'escaperoom': 3, 'minnesotahiphop': 3, 'trapqueen': 8, 'indieanthem-folk': 1, 'houstonrap': 3, 'ukdrill': 1, 'calirap': 4, 'nottinghamhiphop': 1, 'ukgrevival': 1, 'afrodancehall': 1, 'ukdancehall': 1, 'latinhiphop': 5, 'sadrap': 1, 'brooklyndrill': 5, 'rapconscient': 1, 'rhodeislandrap': 1, 'bedroomsoul': 1, 'deepundergroundhiphop': 1, 'r&benespanol': 1, 'indierockitaliano': 2, 'italianpop': 2, 'colombianpop': 1, 'nycrap': 2, 'afror&b': 1, 'modernalternativepop': 2, 'glamrock': 2, 'mellowgold': 2, 'funkcarioca': 4, 'funkpop': 2, 'pagodebaiano': 2, 'popnacional': 2, 'dutchpop': 1, 'argentinehiphop': 1, 'trapargentino': 1, 'mambochileno': 1, 'chicagoindie': 1, 'popreggaeton': 1, 'grunge': 1, 'funkbh': 1, 'funkconsciente': 1}\n"
     ]
    }
   ],
   "source": [
    "genres = df.loc[:,'artist_genres']\n",
    "diccionario = {}\n",
    "for i in df.index:\n",
    "    # print(genres.loc[i])\n",
    "    # array.append(genres.loc[i])\n",
    "    clean = genres.loc[i].replace('[','').replace(']','').replace('\\'','').split(',')\n",
    "    for elem in clean:\n",
    "        if elem not in diccionario:\n",
    "            diccionario[elem] = 1\n",
    "        else:\n",
    "            diccionario[elem] += 1\n",
    "print(diccionario)"
   ]
  }
 ],
 "metadata": {
  "interpreter": {
   "hash": "f4fc7ca4c719ee9eb8edac784909fabba88213340fb42bb5c2706b56c0804c2a"
  },
  "kernelspec": {
   "display_name": "Python 3.10.2 64-bit",
   "language": "python",
   "name": "python3"
  },
  "language_info": {
   "codemirror_mode": {
    "name": "ipython",
    "version": 3
   },
   "file_extension": ".py",
   "mimetype": "text/x-python",
   "name": "python",
   "nbconvert_exporter": "python",
   "pygments_lexer": "ipython3",
   "version": "3.10.2"
  },
  "orig_nbformat": 4
 },
 "nbformat": 4,
 "nbformat_minor": 2
}
