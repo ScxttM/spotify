{
 "cells": [
  {
   "cell_type": "code",
   "execution_count": null,
   "metadata": {},
   "outputs": [],
   "source": [
    "import numpy as np\n",
    "import pandas as pd\n",
    "import matplotlib.pyplot as pl\n",
    "import scipy.stats as stats\n",
    "\n",
    "import spotipy\n",
    "from spotipy.oauth2 import SpotifyClientCredentials"
   ]
  },
  {
   "cell_type": "code",
   "execution_count": null,
   "metadata": {},
   "outputs": [],
   "source": [
    "#Authentication - without user\n",
    "client_credentials_manager = SpotifyClientCredentials(client_id=\"474c3020d8e840688bcc94a1d71ee730\", client_secret=\"a3f12c07c05f45d89024e452eb10cda3\")\n",
    "sp = spotipy.Spotify(client_credentials_manager = client_credentials_manager)"
   ]
  },
  {
   "cell_type": "code",
   "execution_count": null,
   "metadata": {},
   "outputs": [],
   "source": [
    "playlist_link = \"https://open.spotify.com/playlist/37i9dQZF1DXc6IFF23C9jj?si=8b885f97110848fc\"\n",
    "playlist_URI = playlist_link.split(\"/\")[-1].split(\"?\")[0]\n",
    "track_uris = [x[\"track\"][\"uri\"] for x in sp.playlist_tracks(playlist_URI)[\"items\"]]"
   ]
  },
  {
   "cell_type": "code",
   "execution_count": null,
   "metadata": {},
   "outputs": [],
   "source": [
    "data = {}\n",
    "# data['track_uri'] = []\n",
    "data['track_name'] = []\n",
    "data['artist_name'] = []\n",
    "data['album_name'] = []\n",
    "data['artist_genres'] = []\n",
    "data['track_popularity'] = []\n",
    "data['artist_popularity'] = []\n",
    "data['mood_danceability'] = []\n",
    "data['mood_valence'] = []\n",
    "data['mood_energy'] = []\n",
    "data['mood_tempo'] = []\n",
    "data['prop_loudness'] = []\n",
    "data['prop_speechiness'] = []\n",
    "data['prop_instrumentalness'] = []\n",
    "data['context_liveness'] = []\n",
    "data['context_acousticness'] = []\n",
    "\n",
    "\n",
    "\n",
    "for track in sp.playlist_tracks(playlist_URI)[\"items\"]:\n",
    "    #URI\n",
    "    track_uri = track[\"track\"][\"uri\"]\n",
    "    # print(track_uri)\n",
    "    # data['track_uri'].append(track_uri)\n",
    "\n",
    "    #Track number\n",
    "    # track_number = track[\"track\"][\"track_number\"]\n",
    "    # print(track_number)\n",
    "\n",
    "    #Track name\n",
    "    track_name = track[\"track\"][\"name\"]\n",
    "    # print(track_name)\n",
    "    data['track_name'].append(track_name)\n",
    "    \n",
    "    #Main Artist\n",
    "    artist_uri = track[\"track\"][\"artists\"][0][\"uri\"]\n",
    "    # print(artist_uri)\n",
    "    artist_info = sp.artist(artist_uri)\n",
    "    # print(artist_info)\n",
    "    \n",
    "    #Name, popularity, genre\n",
    "    artist_name = track[\"track\"][\"artists\"][0][\"name\"]\n",
    "    data['artist_name'].append(artist_name)\n",
    "    artist_pop = artist_info[\"popularity\"]\n",
    "    data['artist_popularity'].append(artist_pop)\n",
    "    artist_genres = artist_info[\"genres\"]\n",
    "    data['artist_genres'].append(artist_genres)\n",
    "    \n",
    "    #Album\n",
    "    album = track[\"track\"][\"album\"][\"name\"]\n",
    "    data['album_name'].append(album)\n",
    "    \n",
    "    #Popularity of the track\n",
    "    track_pop = track[\"track\"][\"popularity\"]\n",
    "    data['track_popularity'].append(track_pop)\n",
    "\n",
    "    #Audio features\n",
    "    audio_features = sp.audio_features(track_uri)\n",
    "    data['mood_danceability'].append(audio_features[0][\"danceability\"])\n",
    "    data['mood_valence'].append(audio_features[0][\"valence\"])\n",
    "    data['mood_energy'].append(audio_features[0][\"energy\"])\n",
    "    data['mood_tempo'].append(audio_features[0][\"tempo\"])\n",
    "    data['prop_loudness'].append(audio_features[0][\"loudness\"])\n",
    "    data['prop_speechiness'].append(audio_features[0][\"speechiness\"])\n",
    "    data['prop_instrumentalness'].append(audio_features[0][\"instrumentalness\"])\n",
    "    data['context_liveness'].append(audio_features[0][\"liveness\"])\n",
    "    data['context_acousticness'].append(audio_features[0][\"acousticness\"])\n",
    "    # print(audio_features)\n",
    "    # print(audio_features[0]['danceability'])"
   ]
  },
  {
   "cell_type": "code",
   "execution_count": null,
   "metadata": {},
   "outputs": [],
   "source": [
    "df = pd.DataFrame(data)\n",
    "df.index += 1\n",
    "df.to_csv('2010.csv')"
   ]
  }
 ],
 "metadata": {
  "interpreter": {
   "hash": "a4b57680f947797efd172336bdac56d314a4485b1aff1f63fff2a9a40c1a00cb"
  },
  "kernelspec": {
   "display_name": "Python 3.10.2 64-bit",
   "language": "python",
   "name": "python3"
  },
  "language_info": {
   "codemirror_mode": {
    "name": "ipython",
    "version": 3
   },
   "file_extension": ".py",
   "mimetype": "text/x-python",
   "name": "python",
   "nbconvert_exporter": "python",
   "pygments_lexer": "ipython3",
   "version": "3.10.2"
  },
  "orig_nbformat": 4
 },
 "nbformat": 4,
 "nbformat_minor": 2
}
