{
 "cells": [
  {
   "cell_type": "code",
   "execution_count": 51,
   "metadata": {},
   "outputs": [],
   "source": [
    "import numpy as np\n",
    "import pandas as pd\n",
    "import matplotlib.pyplot as pl\n",
    "import scipy.stats as stats\n",
    "\n",
    "import spotipy\n",
    "from spotipy.oauth2 import SpotifyClientCredentials"
   ]
  },
  {
   "cell_type": "code",
   "execution_count": 52,
   "metadata": {},
   "outputs": [],
   "source": [
    "#Authentication - without user\n",
    "client_credentials_manager = SpotifyClientCredentials(client_id=\"474c3020d8e840688bcc94a1d71ee730\", client_secret=\"a3f12c07c05f45d89024e452eb10cda3\")\n",
    "sp = spotipy.Spotify(client_credentials_manager = client_credentials_manager)"
   ]
  },
  {
   "cell_type": "code",
   "execution_count": 53,
   "metadata": {},
   "outputs": [],
   "source": [
    "playlist_link = \"https://open.spotify.com/playlist/37i9dQZEVXbNG2KDcFcKOF?si=f747a21eda4d4eda\"\n",
    "playlist_URI = playlist_link.split(\"/\")[-1].split(\"?\")[0]\n",
    "track_uris = [x[\"track\"][\"uri\"] for x in sp.playlist_tracks(playlist_URI)[\"items\"]]"
   ]
  },
  {
   "cell_type": "code",
   "execution_count": 84,
   "metadata": {},
   "outputs": [],
   "source": [
    "for track in sp.playlist_tracks(playlist_URI)[\"items\"]:\n",
    "    #URI\n",
    "    track_uri = track[\"track\"][\"uri\"]\n",
    "    # print(track_uri)\n",
    "    \n",
    "    #Track number\n",
    "    # track_number = track[\"track\"][\"track_number\"]\n",
    "    # print(track_number)\n",
    "\n",
    "    #Track name\n",
    "    track_name = track[\"track\"][\"name\"]\n",
    "    # print(track_name)\n",
    "    \n",
    "    #Main Artist\n",
    "    artist_uri = track[\"track\"][\"artists\"][0][\"uri\"]\n",
    "    # print(artist_uri)\n",
    "    artist_info = sp.artist(artist_uri)\n",
    "    # print(artist_info)\n",
    "    \n",
    "    #Name, popularity, genre\n",
    "    artist_name = track[\"track\"][\"artists\"][0][\"name\"]\n",
    "    artist_pop = artist_info[\"popularity\"]\n",
    "    artist_genres = artist_info[\"genres\"]\n",
    "    \n",
    "    #Album\n",
    "    album = track[\"track\"][\"album\"][\"name\"]\n",
    "    \n",
    "    #Popularity of the track\n",
    "    track_pop = track[\"track\"][\"popularity\"]\n",
    "\n",
    "    #Audio features\n",
    "    audio_features = sp.audio_features(track_uri)\n",
    "    # print(audio_features)\n",
    "    # print(audio_features[0]['danceability'])\n"
   ]
  },
  {
   "cell_type": "code",
   "execution_count": 85,
   "metadata": {},
   "outputs": [
    {
     "data": {
      "text/plain": [
       "{'danceability': 0.761,\n",
       " 'energy': 0.525,\n",
       " 'key': 11,\n",
       " 'loudness': -6.9,\n",
       " 'mode': 1,\n",
       " 'speechiness': 0.0944,\n",
       " 'acousticness': 0.44,\n",
       " 'instrumentalness': 6.7e-06,\n",
       " 'liveness': 0.0921,\n",
       " 'valence': 0.531,\n",
       " 'tempo': 80.87,\n",
       " 'type': 'audio_features',\n",
       " 'id': '02MWAaffLxlfxAUY7c5dvx',\n",
       " 'uri': 'spotify:track:02MWAaffLxlfxAUY7c5dvx',\n",
       " 'track_href': 'https://api.spotify.com/v1/tracks/02MWAaffLxlfxAUY7c5dvx',\n",
       " 'analysis_url': 'https://api.spotify.com/v1/audio-analysis/02MWAaffLxlfxAUY7c5dvx',\n",
       " 'duration_ms': 238805,\n",
       " 'time_signature': 4}"
      ]
     },
     "execution_count": 85,
     "metadata": {},
     "output_type": "execute_result"
    }
   ],
   "source": [
    "# dataf = []\n",
    "# for i in track_uris:\n",
    "#     dataf.append(sp.audio_features(i)[0])\n",
    "\n",
    "# dataf\n",
    "sp.audio_features(track_uris)[0]"
   ]
  },
  {
   "cell_type": "code",
   "execution_count": 56,
   "metadata": {},
   "outputs": [
    {
     "data": {
      "text/html": [
       "<div>\n",
       "<style scoped>\n",
       "    .dataframe tbody tr th:only-of-type {\n",
       "        vertical-align: middle;\n",
       "    }\n",
       "\n",
       "    .dataframe tbody tr th {\n",
       "        vertical-align: top;\n",
       "    }\n",
       "\n",
       "    .dataframe thead th {\n",
       "        text-align: right;\n",
       "    }\n",
       "</style>\n",
       "<table border=\"1\" class=\"dataframe\">\n",
       "  <thead>\n",
       "    <tr style=\"text-align: right;\">\n",
       "      <th></th>\n",
       "      <th>track_name</th>\n",
       "    </tr>\n",
       "  </thead>\n",
       "  <tbody>\n",
       "  </tbody>\n",
       "</table>\n",
       "</div>"
      ],
      "text/plain": [
       "Empty DataFrame\n",
       "Columns: [track_name]\n",
       "Index: []"
      ]
     },
     "execution_count": 56,
     "metadata": {},
     "output_type": "execute_result"
    }
   ],
   "source": [
    "data = {}\n",
    "data['track_name'] = []\n",
    "\n",
    "df = pd.DataFrame(data)\n",
    "df"
   ]
  }
 ],
 "metadata": {
  "interpreter": {
   "hash": "a4b57680f947797efd172336bdac56d314a4485b1aff1f63fff2a9a40c1a00cb"
  },
  "kernelspec": {
   "display_name": "Python 3.10.2 64-bit",
   "language": "python",
   "name": "python3"
  },
  "language_info": {
   "codemirror_mode": {
    "name": "ipython",
    "version": 3
   },
   "file_extension": ".py",
   "mimetype": "text/x-python",
   "name": "python",
   "nbconvert_exporter": "python",
   "pygments_lexer": "ipython3",
   "version": "3.10.2"
  },
  "orig_nbformat": 4
 },
 "nbformat": 4,
 "nbformat_minor": 2
}
